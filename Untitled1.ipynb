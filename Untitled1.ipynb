{
  "cells": [
    {
      "cell_type": "markdown",
      "metadata": {
        "id": "view-in-github",
        "colab_type": "text"
      },
      "source": [
        "<a href=\"https://colab.research.google.com/github/Sergey-Demyanchuk/mnist/blob/main/Untitled1.ipynb\" target=\"_parent\"><img src=\"https://colab.research.google.com/assets/colab-badge.svg\" alt=\"Open In Colab\"/></a>"
      ]
    },
    {
      "cell_type": "code",
      "execution_count": null,
      "metadata": {
        "id": "8WMD8tT0syvl"
      },
      "outputs": [],
      "source": [
        "import pandas as pd\n",
        "import numpy as np\n",
        "import keras as ks #Работа с базой\n",
        "import sklearn as sk #Работа с метрикой\n",
        "from PIL import Image\n",
        "import matplotlib.pyplot as plt"
      ]
    },
    {
      "cell_type": "code",
      "execution_count": null,
      "metadata": {
        "id": "LoqKWpdJtTvB"
      },
      "outputs": [],
      "source": [
        "from keras.datasets import mnist #Импорт получения набора данных\n",
        "from keras.utils import to_categorical #Импорт методов для категоризаций"
      ]
    },
    {
      "cell_type": "code",
      "execution_count": null,
      "metadata": {
        "colab": {
          "base_uri": "https://localhost:8080/"
        },
        "id": "YoBjt59xtpkT",
        "outputId": "7c63e761-363e-411c-d371-2932a9e465f3"
      },
      "outputs": [
        {
          "output_type": "stream",
          "name": "stdout",
          "text": [
            "Downloading data from https://storage.googleapis.com/tensorflow/tf-keras-datasets/mnist.npz\n",
            "11490434/11490434 [==============================] - 1s 0us/step\n"
          ]
        }
      ],
      "source": [
        "(x_train,y_train),(x_test,y_test) = mnist.load_data()\n"
      ]
    },
    {
      "cell_type": "code",
      "execution_count": null,
      "metadata": {
        "colab": {
          "base_uri": "https://localhost:8080/"
        },
        "id": "vbngmLGkvFdR",
        "outputId": "6c845c6b-3946-49cf-de20-5a303d6781df"
      },
      "outputs": [
        {
          "output_type": "stream",
          "name": "stdout",
          "text": [
            "(60000, 28, 28) (10000, 28, 28)\n"
          ]
        }
      ],
      "source": [
        "print(x_train.shape,x_test.shape)#Проверка формы массива\n"
      ]
    },
    {
      "cell_type": "code",
      "execution_count": null,
      "metadata": {
        "colab": {
          "base_uri": "https://localhost:8080/",
          "height": 447
        },
        "id": "_XC37qh0vt0Z",
        "outputId": "d9b82615-0ca9-4d22-f1cf-917282f8a9d2"
      },
      "outputs": [
        {
          "output_type": "execute_result",
          "data": {
            "text/plain": [
              "<matplotlib.image.AxesImage at 0x7a4894d557b0>"
            ]
          },
          "metadata": {},
          "execution_count": 8
        },
        {
          "output_type": "display_data",
          "data": {
            "text/plain": [
              "<Figure size 640x480 with 1 Axes>"
            ],
            "image/png": "[encoded data removed]"
          },
          "metadata": {}
        }
      ],
      "source": [
        "plt.imshow(x_train[100])"
      ]
    },
    {
      "cell_type": "code",
      "execution_count": null,
      "metadata": {
        "id": "L84Nmh5iwyJY"
      },
      "outputs": [],
      "source": [
        "x_train = x_train / 255.0 #Регулирование максимальных значений\n",
        "x_test = x_test / 255.0\n"
      ]
    },
    {
      "cell_type": "code",
      "execution_count": null,
      "metadata": {
        "id": "Pohgn90yyAAr"
      },
      "outputs": [],
      "source": [
        "y_train = to_categorical(y_train) #Категоризация\n",
        "y_test = to_categorical(y_test)\n"
      ]
    },
    {
      "cell_type": "code",
      "execution_count": null,
      "metadata": {
        "colab": {
          "base_uri": "https://localhost:8080/"
        },
        "id": "6nIlEhWO0jUq",
        "outputId": "65982514-f1b2-4494-ff57-03ab650b51a1"
      },
      "outputs": [
        {
          "output_type": "stream",
          "name": "stdout",
          "text": [
            "(12000, 28, 28)\n"
          ]
        }
      ],
      "source": [
        "from sklearn.model_selection import train_test_split\n",
        "\n",
        "x_train,x_valid,y_train,y_valid = train_test_split(x_train,y_train,test_size=0.2) #Деление данных для валидации (20%)\n",
        "print(x_valid.shape)"
      ]
    },
    {
      "cell_type": "code",
      "execution_count": null,
      "metadata": {
        "id": "tMPvPIju4MKV"
      },
      "outputs": [],
      "source": [
        "from keras.models import Sequential\n",
        "from keras.layers import Dense, Flatten #Импорт слоя, лоя контроля входных/выходных значений\n",
        "\n",
        "model = Sequential()\n",
        "model.add(Flatten(input_shape=(28,28))) #Контроль входных/выходных значений\n",
        "model.add(Dense(128,activation=\"relu\")) #Контроль упрощения\n",
        "model.add(Dense(10,activation=\"softmax\")) #Контроль упрощения и проверяло качество\n"
      ]
    },
    {
      "cell_type": "code",
      "execution_count": null,
      "metadata": {
        "id": "pqj8726N52hw"
      },
      "outputs": [],
      "source": [
        "model.compile(loss=\"categorical_crossentropy\",\n",
        "              optimizer='adam',\n",
        "              metrics=['accuracy'])"
      ]
    },
    {
      "cell_type": "code",
      "execution_count": null,
      "metadata": {
        "colab": {
          "base_uri": "https://localhost:8080/"
        },
        "id": "j-Ig3X4I6Q6Z",
        "outputId": "b1a8667b-684f-4ec6-95a1-64f66c1ff9bd"
      },
      "outputs": [
        {
          "output_type": "stream",
          "name": "stdout",
          "text": [
            "Model: \"sequential\"\n",
            "_________________________________________________________________\n",
            " Layer (type)                Output Shape              Param #   \n",
            "=================================================================\n",
            " flatten (Flatten)           (None, 784)               0         \n",
            "                                                                 \n",
            " dense (Dense)               (None, 128)               100480    \n",
            "                                                                 \n",
            " dense_1 (Dense)             (None, 10)                1290      \n",
            "                                                                 \n",
            "=================================================================\n",
            "Total params: 101770 (397.54 KB)\n",
            "Trainable params: 101770 (397.54 KB)\n",
            "Non-trainable params: 0 (0.00 Byte)\n",
            "_________________________________________________________________\n"
          ]
        }
      ],
      "source": [
        "model.summary()"
      ]
    },
    {
      "cell_type": "code",
      "execution_count": null,
      "metadata": {
        "colab": {
          "base_uri": "https://localhost:8080/"
        },
        "id": "gZwbQzHb6nTV",
        "outputId": "cab31505-5e89-4161-be2a-0df620a21db1"
      },
      "outputs": [
        {
          "output_type": "stream",
          "name": "stdout",
          "text": [
            "Epoch 1/5\n",
            "1500/1500 [==============================] - 10s 7ms/step - loss: 0.1235 - accuracy: 0.9635 - val_loss: 0.1196 - val_accuracy: 0.9640\n",
            "Epoch 2/5\n",
            "1500/1500 [==============================] - 8s 6ms/step - loss: 0.0857 - accuracy: 0.9747 - val_loss: 0.0978 - val_accuracy: 0.9708\n",
            "Epoch 3/5\n",
            "1500/1500 [==============================] - 6s 4ms/step - loss: 0.0634 - accuracy: 0.9812 - val_loss: 0.0861 - val_accuracy: 0.9736\n",
            "Epoch 4/5\n",
            "1500/1500 [==============================] - 5s 3ms/step - loss: 0.0488 - accuracy: 0.9857 - val_loss: 0.0789 - val_accuracy: 0.9755\n",
            "Epoch 5/5\n",
            "1500/1500 [==============================] - 6s 4ms/step - loss: 0.0379 - accuracy: 0.9883 - val_loss: 0.0852 - val_accuracy: 0.9756\n"
          ]
        },
        {
          "output_type": "execute_result",
          "data": {
            "text/plain": [
              "<keras.src.callbacks.History at 0x7a489006dab0>"
            ]
          },
          "metadata": {},
          "execution_count": 14
        }
      ],
      "source": [
        "model.fit(x_train,y_train,batch_size=32,epochs=5,validation_data=(x_test,y_test))\n"
      ]
    },
    {
      "cell_type": "code",
      "execution_count": null,
      "metadata": {
        "id": "k8V9l_5_86-O"
      },
      "outputs": [],
      "source": [
        "test_2 = Image.open(\"/content/8.jpg\").convert(\"L\") #Открытие фотографии (и конвертация)"
      ]
    },
    {
      "cell_type": "code",
      "execution_count": null,
      "metadata": {
        "colab": {
          "base_uri": "https://localhost:8080/",
          "height": 448
        },
        "id": "kLSeqCY3ycQX",
        "outputId": "0d19106a-cc02-4694-aace-ff4cd6509a02"
      },
      "outputs": [
        {
          "output_type": "execute_result",
          "data": {
            "text/plain": [
              "<matplotlib.image.AxesImage at 0x7a487f64b550>"
            ]
          },
          "metadata": {},
          "execution_count": 16
        },
        {
          "output_type": "display_data",
          "data": {
            "text/plain": [
              "<Figure size 640x480 with 1 Axes>"
            ],
            "image/png": "[encoded data removed]"
          },
          "metadata": {}
        }
      ],
      "source": [
        "plt.imshow(test_2)"
      ]
    },
    {
      "cell_type": "code",
      "execution_count": null,
      "metadata": {
        "id": "VWDNumBGyuCK"
      },
      "outputs": [],
      "source": [
        "#test_image1 = test_image1.resize((28,28)) #Изменения размера картинки (28 на 28 пикселей)"
      ]
    },
    {
      "cell_type": "code",
      "execution_count": null,
      "metadata": {
        "id": "svuSei38zclx"
      },
      "outputs": [],
      "source": [
        "#image_test1_array = np.array(test_image1)#Представления картинки в виде массива"
      ]
    },
    {
      "cell_type": "code",
      "execution_count": null,
      "metadata": {
        "id": "KUZgRjQ4zzwn"
      },
      "outputs": [],
      "source": [
        "#image_test1_array = image_test1_array.astype(\"float32\")/255.0 #Нормализация значения пикселей"
      ]
    },
    {
      "cell_type": "code",
      "execution_count": null,
      "metadata": {
        "id": "dngVzFuA6zqf"
      },
      "outputs": [],
      "source": [
        "test_2 = test_2.resize((28, 28))  # Изменение размера изображения до 28x28 пикселей\n",
        "\n",
        "# Преобразование изображения в массив NumPy\n",
        "image_array = np.array(test_2)\n",
        "image_array = image_array.reshape(1, 28, 28)  # Преобразование изображения в одномерный массив размером 784 (28x28)\n",
        "\n",
        "# Нормализация значений пикселей\n",
        "image_array = image_array.astype('float32') / 255.0"
      ]
    },
    {
      "cell_type": "code",
      "execution_count": null,
      "metadata": {
        "colab": {
          "base_uri": "https://localhost:8080/"
        },
        "id": "J7bWEW1V1LOi",
        "outputId": "ea49eb7c-87ad-4bff-9d46-181d9097c497"
      },
      "outputs": [
        {
          "output_type": "stream",
          "name": "stdout",
          "text": [
            "1/1 [==============================] - 0s 37ms/step\n",
            "Число 6\n"
          ]
        }
      ],
      "source": [
        "prediction = model.predict(image_array)\n",
        "prediction = np.argmax(prediction)\n",
        "print(\"Число\", prediction)"
      ]
    }
  ],
  "metadata": {
    "colab": {
      "provenance": [],
      "include_colab_link": true
    },
    "kernelspec": {
      "display_name": "Python 3",
      "name": "python3"
    },
    "language_info": {
      "name": "python"
    }
  },
  "nbformat": 4,
  "nbformat_minor": 0
}